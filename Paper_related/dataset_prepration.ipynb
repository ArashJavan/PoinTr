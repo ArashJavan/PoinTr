{
 "cells": [
  {
   "cell_type": "code",
   "execution_count": 36,
   "id": "3e1e5e41-cec5-4d6a-89c1-61729e1a473e",
   "metadata": {},
   "outputs": [],
   "source": [
    "import os\n",
    "import shutil\n",
    "import numpy as np\n",
    "import open3d as o3d\n",
    "from pathlib import Path\n",
    "import glob\n",
    "\n",
    "np.random.seed(123)"
   ]
  },
  {
   "cell_type": "code",
   "execution_count": 38,
   "id": "010de037-b4b1-4b33-965c-ad4f109e9fc5",
   "metadata": {},
   "outputs": [],
   "source": [
    "ROOT_PATH = \"/home/javanmard/Projekte/treePC/Data/DS\"\n",
    "\n",
    "ROOT_GT_PATH = f\"{ROOT_PATH}/gt_pcd\"\n",
    "ROOT_PARTIAL_PATH = f\"{ROOT_PATH}/partial_pcd\"\n",
    "\n",
    "train_gt_path = f\"{ROOT_PATH}/train/gt\"\n",
    "os.makedirs(train_gt_path)\n",
    "train_partial_path = f\"{ROOT_PATH}/train/partial\"\n",
    "os.makedirs(train_partial_path)\n",
    "\n",
    "test_gt_path = f\"{ROOT_PATH}/test/gt\"\n",
    "os.makedirs(test_gt_path)\n",
    "test_partial_path = f\"{ROOT_PATH}/test/partial\"\n",
    "os.makedirs(test_partial_path)"
   ]
  },
  {
   "cell_type": "code",
   "execution_count": 39,
   "id": "596e711d-2c51-4fca-b01f-6ac124fa2d24",
   "metadata": {},
   "outputs": [
    {
     "name": "stdout",
     "output_type": "stream",
     "text": [
      "#all: 1701, #Train: 1361, #Test:340\n"
     ]
    },
    {
     "data": {
      "text/plain": [
       "(['166_29_119.pcd', '211_16_115.pcd', '49_11_0.pcd', '268_33_0.pcd'],\n",
       " ['36_51_243.pcd', '186_10_120.pcd', '34_51_1.pcd', '166_10_4.pcd'])"
      ]
     },
     "execution_count": 39,
     "metadata": {},
     "output_type": "execute_result"
    }
   ],
   "source": [
    "tree_files = glob.glob(f\"{ROOT_GT_PATH}/*.pcd\")\n",
    "\n",
    "num_test = int(len(tree_files) * 0.2)\n",
    "\n",
    "test_idx = np.random.choice(range(len(tree_files)), num_test, replace=False)\n",
    "test_files = [tree_files[idx] for idx in test_idx]\n",
    "test_files = [Path(p).name for p in test_files]\n",
    "\n",
    "train_files = [tree_files[i] for i in range(len(tree_files)) if i not in test_idx]\n",
    "train_files = [Path(p).name for p in train_files]\n",
    "\n",
    "print(f\"#all: {len(tree_files)}, #Train: {len(train_files)}, #Test:{len(test_files)}\")\n",
    "test_files[:4], train_files[:4]"
   ]
  },
  {
   "cell_type": "code",
   "execution_count": 40,
   "id": "4ffdfbde-9973-4c3d-a204-8e8a2b82a72b",
   "metadata": {},
   "outputs": [],
   "source": [
    "for test_file in test_files:\n",
    "    src = f\"{ROOT_GT_PATH}/{test_file}\"\n",
    "    dst = f\"{test_gt_path}/{test_file}\"\n",
    "    shutil.copy(src, dst)\n",
    "    \n",
    "    src = f\"{ROOT_PARTIAL_PATH}/{test_file}\"\n",
    "    dst = f\"{test_partial_path}/{test_file}\"\n",
    "    shutil.copy(src, dst)"
   ]
  },
  {
   "cell_type": "code",
   "execution_count": 41,
   "id": "571b2b0f-7240-4467-ba32-89bbb0c8a704",
   "metadata": {},
   "outputs": [],
   "source": [
    "for train_file in train_files:\n",
    "    src = f\"{ROOT_GT_PATH}/{train_file}\"\n",
    "    dst = f\"{train_gt_path}/{train_file}\"\n",
    "    shutil.copy(src, dst)\n",
    "    \n",
    "    src = f\"{ROOT_PARTIAL_PATH}/{train_file}\"\n",
    "    dst = f\"{train_partial_path}/{train_file}\"\n",
    "    shutil.copy(src, dst)"
   ]
  },
  {
   "cell_type": "code",
   "execution_count": null,
   "id": "b9ef2e8c-93df-4c75-9109-a354a210a8a1",
   "metadata": {},
   "outputs": [],
   "source": []
  }
 ],
 "metadata": {
  "kernelspec": {
   "display_name": "Python 3 (ipykernel)",
   "language": "python",
   "name": "python3"
  },
  "language_info": {
   "codemirror_mode": {
    "name": "ipython",
    "version": 3
   },
   "file_extension": ".py",
   "mimetype": "text/x-python",
   "name": "python",
   "nbconvert_exporter": "python",
   "pygments_lexer": "ipython3",
   "version": "3.9.7"
  }
 },
 "nbformat": 4,
 "nbformat_minor": 5
}
