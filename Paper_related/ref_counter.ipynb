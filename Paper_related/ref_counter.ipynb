{
 "cells": [
  {
   "cell_type": "code",
   "execution_count": 49,
   "id": "7caae158-5170-4c0d-a0d8-17f743424532",
   "metadata": {},
   "outputs": [],
   "source": [
    "import re\n",
    "import pandas as pd\n",
    "from pypdf import PdfReader\n",
    "\n",
    "reader = PdfReader(\"/home/milux-pc/Downloads/Tchapmi_TopNet_Structural_Point_Cloud_Decoder_CVPR_2019_paper.pdf\")\n",
    "number_of_pages = len(reader.pages)\n",
    "page = reader.pages[0]\n",
    "text = page.extract_text()\n",
    "\n",
    "references = []\n",
    "for i, page in enumerate(reader.pages):\n",
    "    text = page.extract_text()\n",
    "    refs = re.findall(r\"\\[.[0-9,]*\\]\",text)\n",
    "    for r in refs:\n",
    "        r = r.replace('[', '').replace(']', '').replace(' ', '').strip().rstrip()\n",
    "        ref_nr = r.split(',')\n",
    "        ref_nr = list(map(int, ref_nr))\n",
    "        #print(ref_nr)\n",
    "        references.extend(ref_nr)\n",
    "        \n",
    "df = pd.Series(references)\n",
    "df.value_counts()"
   ]
  },
  {
   "cell_type": "code",
   "execution_count": 50,
   "id": "d7dc58fd-6e8c-4862-8574-253560d81e9c",
   "metadata": {},
   "outputs": [],
   "source": [
    "references = []\n",
    "for i, page in enumerate(reader.pages):\n",
    "    text = page.extract_text()\n",
    "    refs = re.findall(r\"\\[.[0-9,]*\\]\",text)\n",
    "    for r in refs:\n",
    "        r = r.replace('[', '').replace(']', '').replace(' ', '').strip().rstrip()\n",
    "        ref_nr = r.split(',')\n",
    "        ref_nr = list(map(int, ref_nr))\n",
    "        #print(ref_nr)\n",
    "        references.extend(ref_nr)"
   ]
  },
  {
   "cell_type": "code",
   "execution_count": 51,
   "id": "8ac3f09b-b008-475f-8dd4-8faeebc5a058",
   "metadata": {},
   "outputs": [
    {
     "data": {
      "text/plain": [
       "38    18\n",
       "13    14\n",
       "37    11\n",
       "9     10\n",
       "6      4\n",
       "23     4\n",
       "14     3\n",
       "2      3\n",
       "10     3\n",
       "3      3\n",
       "18     3\n",
       "21     3\n",
       "24     3\n",
       "33     2\n",
       "19     2\n",
       "30     2\n",
       "32     2\n",
       "35     2\n",
       "11     2\n",
       "17     2\n",
       "12     2\n",
       "25     2\n",
       "34     2\n",
       "36     2\n",
       "15     2\n",
       "5      2\n",
       "27     2\n",
       "29     2\n",
       "26     2\n",
       "1      2\n",
       "20     2\n",
       "16     2\n",
       "28     2\n",
       "22     2\n",
       "8      2\n",
       "7      2\n",
       "31     2\n",
       "4      2\n",
       "dtype: int64"
      ]
     },
     "execution_count": 51,
     "metadata": {},
     "output_type": "execute_result"
    }
   ],
   "source": [
    "import pandas as pd\n",
    "\n",
    "df = pd.Series(references)\n",
    "df.value_counts()"
   ]
  },
  {
   "cell_type": "code",
   "execution_count": 52,
   "id": "a0cd2660-69ee-4ae9-bd92-4e2667ce07ce",
   "metadata": {},
   "outputs": [
    {
     "data": {
      "text/plain": [
       "([1,\n",
       "  2,\n",
       "  3,\n",
       "  4,\n",
       "  5,\n",
       "  6,\n",
       "  7,\n",
       "  8,\n",
       "  9,\n",
       "  10,\n",
       "  11,\n",
       "  12,\n",
       "  13,\n",
       "  14,\n",
       "  15,\n",
       "  16,\n",
       "  17,\n",
       "  18,\n",
       "  19,\n",
       "  20,\n",
       "  21,\n",
       "  22,\n",
       "  23,\n",
       "  24,\n",
       "  25,\n",
       "  26,\n",
       "  27,\n",
       "  28,\n",
       "  29,\n",
       "  30,\n",
       "  31,\n",
       "  32,\n",
       "  33,\n",
       "  34,\n",
       "  35,\n",
       "  36,\n",
       "  37,\n",
       "  38],\n",
       " (38,))"
      ]
     },
     "execution_count": 52,
     "metadata": {},
     "output_type": "execute_result"
    }
   ],
   "source": [
    "sorted(df.unique()), df.unique().shape"
   ]
  },
  {
   "cell_type": "code",
   "execution_count": null,
   "id": "ea298396-fa20-4d05-8565-0dc0df3e6fd8",
   "metadata": {},
   "outputs": [],
   "source": []
  }
 ],
 "metadata": {
  "kernelspec": {
   "display_name": "Python 3 (ipykernel)",
   "language": "python",
   "name": "python3"
  },
  "language_info": {
   "codemirror_mode": {
    "name": "ipython",
    "version": 3
   },
   "file_extension": ".py",
   "mimetype": "text/x-python",
   "name": "python",
   "nbconvert_exporter": "python",
   "pygments_lexer": "ipython3",
   "version": "3.9.16"
  }
 },
 "nbformat": 4,
 "nbformat_minor": 5
}
